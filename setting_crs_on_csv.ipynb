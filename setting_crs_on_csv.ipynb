{
 "cells": [
  {
   "cell_type": "markdown",
   "id": "9e9fc1bb-274f-4d61-ba10-2a66e9851559",
   "metadata": {},
   "source": [
    "## About our data\n",
    "\n",
    "Dataset 1: \n",
    "From the US Energy Information Administration (EIA). Info about current operable electric power plants in the US by energy source.\n",
    "\n",
    "Dataset 2:\n",
    "TIGER shapefiles from US Census Bureau depicting state boundaries."
   ]
  },
  {
   "cell_type": "code",
   "execution_count": 1,
   "id": "6bc37a05-20a7-4d9f-983e-fc49c5591293",
   "metadata": {
    "tags": []
   },
   "outputs": [],
   "source": [
    "# import libraries\n",
    "\n",
    "import geopandas as gpd\n",
    "import pandas as pd\n",
    "import matplotlib as plt\n",
    "\n",
    "# update pandas display option\n",
    "pd.set_option(\"display.max.columns\", None)"
   ]
  },
  {
   "cell_type": "markdown",
   "id": "a470baba-1f95-4dde-80da-60dfe837f476",
   "metadata": {},
   "source": [
    "We want to make a geopandas geodataframe from our csv data."
   ]
  },
  {
   "cell_type": "code",
   "execution_count": 8,
   "id": "234ac976-8667-4763-9c01-c29435c6ee6d",
   "metadata": {
    "tags": []
   },
   "outputs": [],
   "source": [
    "# import csv data using pandas\n",
    "power_plants = pd.read_csv('data/power_plants_epsg4269.csv')"
   ]
  },
  {
   "cell_type": "code",
   "execution_count": 9,
   "id": "96713441-4998-42d4-8c07-38742f5dbd8a",
   "metadata": {
    "tags": []
   },
   "outputs": [
    {
     "data": {
      "text/html": [
       "<div>\n",
       "<style scoped>\n",
       "    .dataframe tbody tr th:only-of-type {\n",
       "        vertical-align: middle;\n",
       "    }\n",
       "\n",
       "    .dataframe tbody tr th {\n",
       "        vertical-align: top;\n",
       "    }\n",
       "\n",
       "    .dataframe thead th {\n",
       "        text-align: right;\n",
       "    }\n",
       "</style>\n",
       "<table border=\"1\" class=\"dataframe\">\n",
       "  <thead>\n",
       "    <tr style=\"text-align: right;\">\n",
       "      <th></th>\n",
       "      <th>Unnamed: 0</th>\n",
       "      <th>objectid</th>\n",
       "      <th>plant_code</th>\n",
       "      <th>plant_name</th>\n",
       "      <th>utility_id</th>\n",
       "      <th>utility_name</th>\n",
       "      <th>sector_name</th>\n",
       "      <th>street_address</th>\n",
       "      <th>city</th>\n",
       "      <th>county</th>\n",
       "      <th>state</th>\n",
       "      <th>zip</th>\n",
       "      <th>primsource</th>\n",
       "      <th>source_desc</th>\n",
       "      <th>tech_desc</th>\n",
       "      <th>install_mw</th>\n",
       "      <th>total_mw</th>\n",
       "      <th>bat_mw</th>\n",
       "      <th>bio_mw</th>\n",
       "      <th>coal_mw</th>\n",
       "      <th>geo_mw</th>\n",
       "      <th>hydro_mw</th>\n",
       "      <th>hydrops_mw</th>\n",
       "      <th>ng_mw</th>\n",
       "      <th>nuclear_mw</th>\n",
       "      <th>crude_mw</th>\n",
       "      <th>solar_mw</th>\n",
       "      <th>wind_mw</th>\n",
       "      <th>other_mw</th>\n",
       "      <th>source</th>\n",
       "      <th>period</th>\n",
       "      <th>longitude</th>\n",
       "      <th>latitude</th>\n",
       "    </tr>\n",
       "  </thead>\n",
       "  <tbody>\n",
       "    <tr>\n",
       "      <th>0</th>\n",
       "      <td>0.0</td>\n",
       "      <td>11570</td>\n",
       "      <td>1</td>\n",
       "      <td>Sand Point</td>\n",
       "      <td>63560</td>\n",
       "      <td>TDX Sand Point Generating, LLC</td>\n",
       "      <td>Electric Utility</td>\n",
       "      <td>100 Power Plant Way</td>\n",
       "      <td>Sand Point</td>\n",
       "      <td>Aleutians East</td>\n",
       "      <td>Alaska</td>\n",
       "      <td>99661.0</td>\n",
       "      <td>petroleum</td>\n",
       "      <td>Petroleum = 1.3 MW, Wind = 0.4 MW</td>\n",
       "      <td>Petroleum Liquids; Onshore Wind Turbine;</td>\n",
       "      <td>3.7</td>\n",
       "      <td>1.7</td>\n",
       "      <td>NaN</td>\n",
       "      <td>NaN</td>\n",
       "      <td>NaN</td>\n",
       "      <td>NaN</td>\n",
       "      <td>NaN</td>\n",
       "      <td>NaN</td>\n",
       "      <td>NaN</td>\n",
       "      <td>NaN</td>\n",
       "      <td>1.3</td>\n",
       "      <td>NaN</td>\n",
       "      <td>0.4</td>\n",
       "      <td>NaN</td>\n",
       "      <td>EIA-860, EIA-860M and EIA-923</td>\n",
       "      <td>202305.0</td>\n",
       "      <td>-160.497222</td>\n",
       "      <td>55.339722</td>\n",
       "    </tr>\n",
       "    <tr>\n",
       "      <th>1</th>\n",
       "      <td>1.0</td>\n",
       "      <td>11571</td>\n",
       "      <td>2</td>\n",
       "      <td>Bankhead Dam</td>\n",
       "      <td>195</td>\n",
       "      <td>Alabama Power Co</td>\n",
       "      <td>Electric Utility</td>\n",
       "      <td>19001 Lock 17 Road</td>\n",
       "      <td>Northport</td>\n",
       "      <td>Tuscaloosa</td>\n",
       "      <td>Alabama</td>\n",
       "      <td>35476.0</td>\n",
       "      <td>hydroelectric</td>\n",
       "      <td>Hydroelectric = 53 MW</td>\n",
       "      <td>Conventional Hydroelectric</td>\n",
       "      <td>53.9</td>\n",
       "      <td>53.0</td>\n",
       "      <td>NaN</td>\n",
       "      <td>NaN</td>\n",
       "      <td>NaN</td>\n",
       "      <td>NaN</td>\n",
       "      <td>53.0</td>\n",
       "      <td>NaN</td>\n",
       "      <td>NaN</td>\n",
       "      <td>NaN</td>\n",
       "      <td>NaN</td>\n",
       "      <td>NaN</td>\n",
       "      <td>NaN</td>\n",
       "      <td>NaN</td>\n",
       "      <td>EIA-860, EIA-860M and EIA-923</td>\n",
       "      <td>202305.0</td>\n",
       "      <td>-87.356823</td>\n",
       "      <td>33.458665</td>\n",
       "    </tr>\n",
       "    <tr>\n",
       "      <th>2</th>\n",
       "      <td>2.0</td>\n",
       "      <td>11572</td>\n",
       "      <td>3</td>\n",
       "      <td>Barry</td>\n",
       "      <td>195</td>\n",
       "      <td>Alabama Power Co</td>\n",
       "      <td>Electric Utility</td>\n",
       "      <td>North Highway 43</td>\n",
       "      <td>Bucks</td>\n",
       "      <td>Mobile</td>\n",
       "      <td>Alabama</td>\n",
       "      <td>36512.0</td>\n",
       "      <td>natural gas</td>\n",
       "      <td>Coal = 1118.5 MW, Natural Gas = 1296.2 MW</td>\n",
       "      <td>Conventional Steam Coal; Natural Gas Fired Com...</td>\n",
       "      <td>2569.5</td>\n",
       "      <td>2414.7</td>\n",
       "      <td>NaN</td>\n",
       "      <td>NaN</td>\n",
       "      <td>1118.5</td>\n",
       "      <td>NaN</td>\n",
       "      <td>NaN</td>\n",
       "      <td>NaN</td>\n",
       "      <td>1296.2</td>\n",
       "      <td>NaN</td>\n",
       "      <td>NaN</td>\n",
       "      <td>NaN</td>\n",
       "      <td>NaN</td>\n",
       "      <td>NaN</td>\n",
       "      <td>EIA-860, EIA-860M and EIA-923</td>\n",
       "      <td>202305.0</td>\n",
       "      <td>-88.010300</td>\n",
       "      <td>31.006900</td>\n",
       "    </tr>\n",
       "    <tr>\n",
       "      <th>3</th>\n",
       "      <td>3.0</td>\n",
       "      <td>11573</td>\n",
       "      <td>4</td>\n",
       "      <td>Walter Bouldin Dam</td>\n",
       "      <td>195</td>\n",
       "      <td>Alabama Power Co</td>\n",
       "      <td>Electric Utility</td>\n",
       "      <td>750 Bouldin Dam Road</td>\n",
       "      <td>Wetumpka</td>\n",
       "      <td>Elmore</td>\n",
       "      <td>Alabama</td>\n",
       "      <td>36092.0</td>\n",
       "      <td>hydroelectric</td>\n",
       "      <td>Hydroelectric = 224.1 MW</td>\n",
       "      <td>Conventional Hydroelectric</td>\n",
       "      <td>225.0</td>\n",
       "      <td>224.1</td>\n",
       "      <td>NaN</td>\n",
       "      <td>NaN</td>\n",
       "      <td>NaN</td>\n",
       "      <td>NaN</td>\n",
       "      <td>224.1</td>\n",
       "      <td>NaN</td>\n",
       "      <td>NaN</td>\n",
       "      <td>NaN</td>\n",
       "      <td>NaN</td>\n",
       "      <td>NaN</td>\n",
       "      <td>NaN</td>\n",
       "      <td>NaN</td>\n",
       "      <td>EIA-860, EIA-860M and EIA-923</td>\n",
       "      <td>202305.0</td>\n",
       "      <td>-86.283056</td>\n",
       "      <td>32.583889</td>\n",
       "    </tr>\n",
       "    <tr>\n",
       "      <th>4</th>\n",
       "      <td>4.0</td>\n",
       "      <td>11574</td>\n",
       "      <td>9</td>\n",
       "      <td>Copper</td>\n",
       "      <td>5701</td>\n",
       "      <td>El Paso Electric Co</td>\n",
       "      <td>Electric Utility</td>\n",
       "      <td>651 Hawkins Blvd.</td>\n",
       "      <td>El Paso</td>\n",
       "      <td>El Paso</td>\n",
       "      <td>Texas</td>\n",
       "      <td>79915.0</td>\n",
       "      <td>natural gas</td>\n",
       "      <td>Natural Gas = 63 MW</td>\n",
       "      <td>Natural Gas Fired Combustion Turbine</td>\n",
       "      <td>86.9</td>\n",
       "      <td>63.0</td>\n",
       "      <td>NaN</td>\n",
       "      <td>NaN</td>\n",
       "      <td>NaN</td>\n",
       "      <td>NaN</td>\n",
       "      <td>NaN</td>\n",
       "      <td>NaN</td>\n",
       "      <td>63.0</td>\n",
       "      <td>NaN</td>\n",
       "      <td>NaN</td>\n",
       "      <td>NaN</td>\n",
       "      <td>NaN</td>\n",
       "      <td>NaN</td>\n",
       "      <td>EIA-860, EIA-860M and EIA-923</td>\n",
       "      <td>202305.0</td>\n",
       "      <td>-106.375000</td>\n",
       "      <td>31.756900</td>\n",
       "    </tr>\n",
       "  </tbody>\n",
       "</table>\n",
       "</div>"
      ],
      "text/plain": [
       "   Unnamed: 0 objectid plant_code          plant_name utility_id  \\\n",
       "0         0.0    11570          1          Sand Point      63560   \n",
       "1         1.0    11571          2        Bankhead Dam        195   \n",
       "2         2.0    11572          3               Barry        195   \n",
       "3         3.0    11573          4  Walter Bouldin Dam        195   \n",
       "4         4.0    11574          9              Copper       5701   \n",
       "\n",
       "                     utility_name       sector_name        street_address  \\\n",
       "0  TDX Sand Point Generating, LLC  Electric Utility   100 Power Plant Way   \n",
       "1                Alabama Power Co  Electric Utility    19001 Lock 17 Road   \n",
       "2                Alabama Power Co  Electric Utility      North Highway 43   \n",
       "3                Alabama Power Co  Electric Utility  750 Bouldin Dam Road   \n",
       "4             El Paso Electric Co  Electric Utility     651 Hawkins Blvd.   \n",
       "\n",
       "         city          county    state      zip     primsource  \\\n",
       "0  Sand Point  Aleutians East   Alaska  99661.0      petroleum   \n",
       "1   Northport      Tuscaloosa  Alabama  35476.0  hydroelectric   \n",
       "2       Bucks          Mobile  Alabama  36512.0    natural gas   \n",
       "3    Wetumpka          Elmore  Alabama  36092.0  hydroelectric   \n",
       "4     El Paso         El Paso    Texas  79915.0    natural gas   \n",
       "\n",
       "                                 source_desc  \\\n",
       "0          Petroleum = 1.3 MW, Wind = 0.4 MW   \n",
       "1                      Hydroelectric = 53 MW   \n",
       "2  Coal = 1118.5 MW, Natural Gas = 1296.2 MW   \n",
       "3                   Hydroelectric = 224.1 MW   \n",
       "4                        Natural Gas = 63 MW   \n",
       "\n",
       "                                           tech_desc  install_mw  total_mw  \\\n",
       "0           Petroleum Liquids; Onshore Wind Turbine;         3.7       1.7   \n",
       "1                         Conventional Hydroelectric        53.9      53.0   \n",
       "2  Conventional Steam Coal; Natural Gas Fired Com...      2569.5    2414.7   \n",
       "3                         Conventional Hydroelectric       225.0     224.1   \n",
       "4               Natural Gas Fired Combustion Turbine        86.9      63.0   \n",
       "\n",
       "   bat_mw  bio_mw  coal_mw  geo_mw  hydro_mw  hydrops_mw   ng_mw nuclear_mw  \\\n",
       "0     NaN     NaN      NaN     NaN       NaN         NaN     NaN        NaN   \n",
       "1     NaN     NaN      NaN     NaN      53.0         NaN     NaN        NaN   \n",
       "2     NaN     NaN   1118.5     NaN       NaN         NaN  1296.2        NaN   \n",
       "3     NaN     NaN      NaN     NaN     224.1         NaN     NaN        NaN   \n",
       "4     NaN     NaN      NaN     NaN       NaN         NaN    63.0        NaN   \n",
       "\n",
       "   crude_mw  solar_mw  wind_mw  other_mw                         source  \\\n",
       "0       1.3       NaN      0.4       NaN  EIA-860, EIA-860M and EIA-923   \n",
       "1       NaN       NaN      NaN       NaN  EIA-860, EIA-860M and EIA-923   \n",
       "2       NaN       NaN      NaN       NaN  EIA-860, EIA-860M and EIA-923   \n",
       "3       NaN       NaN      NaN       NaN  EIA-860, EIA-860M and EIA-923   \n",
       "4       NaN       NaN      NaN       NaN  EIA-860, EIA-860M and EIA-923   \n",
       "\n",
       "     period   longitude   latitude  \n",
       "0  202305.0 -160.497222  55.339722  \n",
       "1  202305.0  -87.356823  33.458665  \n",
       "2  202305.0  -88.010300  31.006900  \n",
       "3  202305.0  -86.283056  32.583889  \n",
       "4  202305.0 -106.375000  31.756900  "
      ]
     },
     "execution_count": 9,
     "metadata": {},
     "output_type": "execute_result"
    }
   ],
   "source": [
    "power_plants.head()"
   ]
  },
  {
   "cell_type": "markdown",
   "id": "c10a3401-0e61-4942-aee9-131cfc221ec7",
   "metadata": {},
   "source": [
    "From the \"documentation\" we know that CRS for this file is EPSG:4269 in lat/lon coordinates. We can use this infor to create a new `gpd.GeoDataFrame` from the `pd.DataFrame`.\n",
    "To do this we use the `gdp.points_from_xy`"
   ]
  },
  {
   "cell_type": "code",
   "execution_count": 12,
   "id": "9c7d4a80-b16c-455d-bdfb-abd9d1783e74",
   "metadata": {
    "tags": []
   },
   "outputs": [],
   "source": [
    "power_plants = gpd.GeoDataFrame( power_plants, # data for geo-dataframe\n",
    "                                # specifying a geometry column\n",
    "                                geometry = gpd.points_from_xy(power_plants.longitude,\n",
    "                                                             power_plants.latitude),\n",
    "                                # specify CRS\n",
    "                                crs = 'EPSG:4269'\n",
    "                               )"
   ]
  },
  {
   "cell_type": "code",
   "execution_count": 14,
   "id": "a1cd4611-9c9f-42d1-a859-558e9276219b",
   "metadata": {
    "tags": []
   },
   "outputs": [
    {
     "name": "stdout",
     "output_type": "stream",
     "text": [
      "is geographic? True\n",
      "is projected? False\n",
      "datum North American Datum 1983\n"
     ]
    }
   ],
   "source": [
    "# print CRS info\n",
    "print('is geographic?', power_plants.crs.is_geographic)\n",
    "print('is projected?', power_plants.crs.is_projected)\n",
    "print('datum', power_plants.crs.datum)\n",
    "# print()"
   ]
  },
  {
   "cell_type": "code",
   "execution_count": 80,
   "id": "69b6c07a-5a8d-4687-8a46-5cb0696dd432",
   "metadata": {
    "tags": []
   },
   "outputs": [
    {
     "data": {
      "text/html": [
       "<div>\n",
       "<style scoped>\n",
       "    .dataframe tbody tr th:only-of-type {\n",
       "        vertical-align: middle;\n",
       "    }\n",
       "\n",
       "    .dataframe tbody tr th {\n",
       "        vertical-align: top;\n",
       "    }\n",
       "\n",
       "    .dataframe thead th {\n",
       "        text-align: right;\n",
       "    }\n",
       "</style>\n",
       "<table border=\"1\" class=\"dataframe\">\n",
       "  <thead>\n",
       "    <tr style=\"text-align: right;\">\n",
       "      <th></th>\n",
       "      <th>REGION</th>\n",
       "      <th>DIVISION</th>\n",
       "      <th>STATEFP</th>\n",
       "      <th>STATENS</th>\n",
       "      <th>GEOID</th>\n",
       "      <th>STUSPS</th>\n",
       "      <th>NAME</th>\n",
       "      <th>LSAD</th>\n",
       "      <th>MTFCC</th>\n",
       "      <th>FUNCSTAT</th>\n",
       "      <th>ALAND</th>\n",
       "      <th>AWATER</th>\n",
       "      <th>INTPTLAT</th>\n",
       "      <th>INTPTLON</th>\n",
       "      <th>geometry</th>\n",
       "    </tr>\n",
       "  </thead>\n",
       "  <tbody>\n",
       "    <tr>\n",
       "      <th>0</th>\n",
       "      <td>3</td>\n",
       "      <td>5</td>\n",
       "      <td>54</td>\n",
       "      <td>01779805</td>\n",
       "      <td>54</td>\n",
       "      <td>WV</td>\n",
       "      <td>West Virginia</td>\n",
       "      <td>00</td>\n",
       "      <td>G4000</td>\n",
       "      <td>A</td>\n",
       "      <td>62266456923</td>\n",
       "      <td>489045863</td>\n",
       "      <td>+38.6472854</td>\n",
       "      <td>-080.6183274</td>\n",
       "      <td>POLYGON ((-77.75438 39.33346, -77.75422 39.333...</td>\n",
       "    </tr>\n",
       "    <tr>\n",
       "      <th>1</th>\n",
       "      <td>3</td>\n",
       "      <td>5</td>\n",
       "      <td>12</td>\n",
       "      <td>00294478</td>\n",
       "      <td>12</td>\n",
       "      <td>FL</td>\n",
       "      <td>Florida</td>\n",
       "      <td>00</td>\n",
       "      <td>G4000</td>\n",
       "      <td>A</td>\n",
       "      <td>138962819934</td>\n",
       "      <td>45971472526</td>\n",
       "      <td>+28.3989775</td>\n",
       "      <td>-082.5143005</td>\n",
       "      <td>MULTIPOLYGON (((-83.10874 24.62949, -83.10711 ...</td>\n",
       "    </tr>\n",
       "    <tr>\n",
       "      <th>2</th>\n",
       "      <td>2</td>\n",
       "      <td>3</td>\n",
       "      <td>17</td>\n",
       "      <td>01779784</td>\n",
       "      <td>17</td>\n",
       "      <td>IL</td>\n",
       "      <td>Illinois</td>\n",
       "      <td>00</td>\n",
       "      <td>G4000</td>\n",
       "      <td>A</td>\n",
       "      <td>143778515726</td>\n",
       "      <td>6216539665</td>\n",
       "      <td>+40.1028754</td>\n",
       "      <td>-089.1526108</td>\n",
       "      <td>POLYGON ((-87.89243 38.28285, -87.89334 38.282...</td>\n",
       "    </tr>\n",
       "    <tr>\n",
       "      <th>3</th>\n",
       "      <td>2</td>\n",
       "      <td>4</td>\n",
       "      <td>27</td>\n",
       "      <td>00662849</td>\n",
       "      <td>27</td>\n",
       "      <td>MN</td>\n",
       "      <td>Minnesota</td>\n",
       "      <td>00</td>\n",
       "      <td>G4000</td>\n",
       "      <td>A</td>\n",
       "      <td>206244837557</td>\n",
       "      <td>18937184315</td>\n",
       "      <td>+46.3159573</td>\n",
       "      <td>-094.1996043</td>\n",
       "      <td>POLYGON ((-95.31989 48.99892, -95.31747 48.998...</td>\n",
       "    </tr>\n",
       "    <tr>\n",
       "      <th>4</th>\n",
       "      <td>3</td>\n",
       "      <td>5</td>\n",
       "      <td>24</td>\n",
       "      <td>01714934</td>\n",
       "      <td>24</td>\n",
       "      <td>MD</td>\n",
       "      <td>Maryland</td>\n",
       "      <td>00</td>\n",
       "      <td>G4000</td>\n",
       "      <td>A</td>\n",
       "      <td>25151771744</td>\n",
       "      <td>6979295311</td>\n",
       "      <td>+38.9466584</td>\n",
       "      <td>-076.6744939</td>\n",
       "      <td>POLYGON ((-75.75600 39.24607, -75.75579 39.243...</td>\n",
       "    </tr>\n",
       "  </tbody>\n",
       "</table>\n",
       "</div>"
      ],
      "text/plain": [
       "  REGION DIVISION STATEFP   STATENS GEOID STUSPS           NAME LSAD  MTFCC  \\\n",
       "0      3        5      54  01779805    54     WV  West Virginia   00  G4000   \n",
       "1      3        5      12  00294478    12     FL        Florida   00  G4000   \n",
       "2      2        3      17  01779784    17     IL       Illinois   00  G4000   \n",
       "3      2        4      27  00662849    27     MN      Minnesota   00  G4000   \n",
       "4      3        5      24  01714934    24     MD       Maryland   00  G4000   \n",
       "\n",
       "  FUNCSTAT         ALAND       AWATER     INTPTLAT      INTPTLON  \\\n",
       "0        A   62266456923    489045863  +38.6472854  -080.6183274   \n",
       "1        A  138962819934  45971472526  +28.3989775  -082.5143005   \n",
       "2        A  143778515726   6216539665  +40.1028754  -089.1526108   \n",
       "3        A  206244837557  18937184315  +46.3159573  -094.1996043   \n",
       "4        A   25151771744   6979295311  +38.9466584  -076.6744939   \n",
       "\n",
       "                                            geometry  \n",
       "0  POLYGON ((-77.75438 39.33346, -77.75422 39.333...  \n",
       "1  MULTIPOLYGON (((-83.10874 24.62949, -83.10711 ...  \n",
       "2  POLYGON ((-87.89243 38.28285, -87.89334 38.282...  \n",
       "3  POLYGON ((-95.31989 48.99892, -95.31747 48.998...  \n",
       "4  POLYGON ((-75.75600 39.24607, -75.75579 39.243...  "
      ]
     },
     "execution_count": 80,
     "metadata": {},
     "output_type": "execute_result"
    }
   ],
   "source": [
    "states = gpd.read_file('data/tl_2022_us_state/tl_2022_us_state.shp')\n",
    "states.head()"
   ]
  },
  {
   "cell_type": "code",
   "execution_count": 95,
   "id": "1b37da1f-b40d-4bfb-b95c-948bbe8a78ce",
   "metadata": {
    "tags": []
   },
   "outputs": [],
   "source": [
    "states.columns = states.columns.str.lower()\n"
   ]
  },
  {
   "cell_type": "code",
   "execution_count": 96,
   "id": "25368a65-2fe0-4266-a78e-caefbe26c85a",
   "metadata": {
    "tags": []
   },
   "outputs": [
    {
     "data": {
      "text/plain": [
       "array(['3', '2', '1', '4', '9'], dtype=object)"
      ]
     },
     "execution_count": 96,
     "metadata": {},
     "output_type": "execute_result"
    }
   ],
   "source": [
    "states.region.unique()"
   ]
  },
  {
   "cell_type": "code",
   "execution_count": 97,
   "id": "85bd5895-c5ff-4c1b-aeb3-f8433e4d9567",
   "metadata": {
    "tags": []
   },
   "outputs": [
    {
     "data": {
      "text/plain": [
       "region        object\n",
       "division      object\n",
       "statefp       object\n",
       "statens       object\n",
       "geoid         object\n",
       "stusps        object\n",
       "name          object\n",
       "lsad          object\n",
       "mtfcc         object\n",
       "funcstat      object\n",
       "aland          int64\n",
       "awater         int64\n",
       "intptlat      object\n",
       "intptlon      object\n",
       "geometry    geometry\n",
       "dtype: object"
      ]
     },
     "execution_count": 97,
     "metadata": {},
     "output_type": "execute_result"
    }
   ],
   "source": [
    "# check column types\n",
    "states.dtypes"
   ]
  },
  {
   "cell_type": "code",
   "execution_count": 98,
   "id": "92f47f6d-82f9-4e97-b7ba-f281a1938c26",
   "metadata": {
    "tags": []
   },
   "outputs": [],
   "source": [
    "# Update the datatypes of region, division and statefp to be int\n",
    "states[['region', 'division', 'statefp']] = states[['region', 'division', 'statefp']].astype(dtype='int64', copy = False)"
   ]
  },
  {
   "cell_type": "code",
   "execution_count": 99,
   "id": "7b4ae2a4-f010-419d-b65c-dadca52fcb5e",
   "metadata": {
    "tags": []
   },
   "outputs": [
    {
     "data": {
      "text/plain": [
       "region         int64\n",
       "division       int64\n",
       "statefp        int64\n",
       "statens       object\n",
       "geoid         object\n",
       "stusps        object\n",
       "name          object\n",
       "lsad          object\n",
       "mtfcc         object\n",
       "funcstat      object\n",
       "aland          int64\n",
       "awater         int64\n",
       "intptlat      object\n",
       "intptlon      object\n",
       "geometry    geometry\n",
       "dtype: object"
      ]
     },
     "execution_count": 99,
     "metadata": {},
     "output_type": "execute_result"
    }
   ],
   "source": [
    "states.dtypes"
   ]
  },
  {
   "cell_type": "code",
   "execution_count": 100,
   "id": "7d870337-71fa-4468-a9eb-a3bf21af6138",
   "metadata": {
    "tags": []
   },
   "outputs": [
    {
     "name": "stdout",
     "output_type": "stream",
     "text": [
      "is projected? False\n",
      "is geographic? True\n"
     ]
    }
   ],
   "source": [
    "# Check the states dataframe CRS\n",
    "print('is projected?', states.crs.is_projected)\n",
    "print('is geographic?', states.crs.is_geographic)"
   ]
  },
  {
   "cell_type": "code",
   "execution_count": 101,
   "id": "1f77e326-df1e-493b-a8fa-d97a81e04ffc",
   "metadata": {
    "tags": []
   },
   "outputs": [
    {
     "data": {
      "text/plain": [
       "True"
      ]
     },
     "execution_count": 101,
     "metadata": {},
     "output_type": "execute_result"
    }
   ],
   "source": [
    "states.crs == power_plants.crs"
   ]
  },
  {
   "cell_type": "code",
   "execution_count": 102,
   "id": "71ff0f72-8a2e-4131-b724-c232b5ed07b9",
   "metadata": {
    "tags": []
   },
   "outputs": [
    {
     "data": {
      "text/plain": [
       "<AxesSubplot:>"
      ]
     },
     "execution_count": 102,
     "metadata": {},
     "output_type": "execute_result"
    },
    {
     "data": {
      "image/png": "[encoded data removed]",
      "text/plain": [
       "<Figure size 640x480 with 1 Axes>"
      ]
     },
     "metadata": {},
     "output_type": "display_data"
    }
   ],
   "source": [
    "# make a graph\n",
    "\n",
    "states.plot()"
   ]
  },
  {
   "cell_type": "code",
   "execution_count": 103,
   "id": "b9d83121-774d-494f-b9fd-7a3f5004c8ae",
   "metadata": {
    "tags": []
   },
   "outputs": [
    {
     "data": {
      "text/plain": [
       "<AxesSubplot:>"
      ]
     },
     "execution_count": 103,
     "metadata": {},
     "output_type": "execute_result"
    },
    {
     "data": {
      "image/png": "[encoded data removed]",
      "text/plain": [
       "<Figure size 640x480 with 1 Axes>"
      ]
     },
     "metadata": {},
     "output_type": "display_data"
    }
   ],
   "source": [
    "# excl. Alaska: statefp code = 2\n",
    "states_excl_non_cont = states.loc[states.statefp != 2]\n",
    "\n",
    "states_excl_non_cont.plot()"
   ]
  },
  {
   "cell_type": "code",
   "execution_count": 104,
   "id": "2f96a64a-0a2d-49a2-bb83-092285262faf",
   "metadata": {
    "tags": []
   },
   "outputs": [],
   "source": [
    "states_contiguous = states.loc[~states.stusps.isin(['HI','AK','VI','PR','GU','AS','MP'])]\n"
   ]
  },
  {
   "cell_type": "code",
   "execution_count": 105,
   "id": "2bf0f12a-08d8-4134-a41f-47ac89f9fba5",
   "metadata": {
    "tags": []
   },
   "outputs": [
    {
     "data": {
      "text/plain": [
       "<AxesSubplot:>"
      ]
     },
     "execution_count": 105,
     "metadata": {},
     "output_type": "execute_result"
    },
    {
     "data": {
      "image/png": "[encoded data removed]",
      "text/plain": [
       "<Figure size 640x480 with 1 Axes>"
      ]
     },
     "metadata": {},
     "output_type": "display_data"
    }
   ],
   "source": [
    "states_contiguous.plot()"
   ]
  },
  {
   "cell_type": "code",
   "execution_count": 106,
   "id": "f532d930-6c9e-4663-aa34-8d7c9ce2b715",
   "metadata": {
    "tags": []
   },
   "outputs": [],
   "source": [
    "states_contiguous2 = states.loc[states.region != 9]"
   ]
  },
  {
   "cell_type": "code",
   "execution_count": 107,
   "id": "c597540f-8d21-49ed-b216-44ae7657bc0b",
   "metadata": {
    "tags": []
   },
   "outputs": [
    {
     "data": {
      "text/plain": [
       "<AxesSubplot:>"
      ]
     },
     "execution_count": 107,
     "metadata": {},
     "output_type": "execute_result"
    },
    {
     "data": {
      "image/png": "[encoded data removed]",
      "text/plain": [
       "<Figure size 640x480 with 1 Axes>"
      ]
     },
     "metadata": {},
     "output_type": "display_data"
    }
   ],
   "source": [
    "states_contiguous2.plot()"
   ]
  },
  {
   "cell_type": "code",
   "execution_count": 109,
   "id": "03b404bf-16df-4523-8a15-d0a72f7b5585",
   "metadata": {
    "tags": []
   },
   "outputs": [
    {
     "ename": "TypeError",
     "evalue": "'module' object is not callable",
     "output_type": "error",
     "traceback": [
      "\u001b[0;31m---------------------------------------------------------------------------\u001b[0m",
      "\u001b[0;31mTypeError\u001b[0m                                 Traceback (most recent call last)",
      "\u001b[0;32m/tmp/ipykernel_3057424/194312345.py\u001b[0m in \u001b[0;36m<module>\u001b[0;34m\u001b[0m\n\u001b[0;32m----> 1\u001b[0;31m \u001b[0mfig\u001b[0m\u001b[0;34m,\u001b[0m \u001b[0max\u001b[0m \u001b[0;34m=\u001b[0m \u001b[0mplt\u001b[0m\u001b[0;34m(\u001b[0m\u001b[0;34m)\u001b[0m\u001b[0;34m\u001b[0m\u001b[0;34m\u001b[0m\u001b[0m\n\u001b[0m",
      "\u001b[0;31mTypeError\u001b[0m: 'module' object is not callable"
     ]
    }
   ],
   "source": [
    "fig, ax = plt()"
   ]
  },
  {
   "cell_type": "code",
   "execution_count": null,
   "id": "145aeffd-d60d-4441-80e8-b7c4550ceff0",
   "metadata": {},
   "outputs": [],
   "source": []
  },
  {
   "cell_type": "code",
   "execution_count": null,
   "id": "e0e2f3ee-385e-4f59-be5e-adcf81193385",
   "metadata": {},
   "outputs": [],
   "source": []
  }
 ],
 "metadata": {
  "kernelspec": {
   "display_name": "Anaconda 3 (Base)",
   "language": "python",
   "name": "base"
  },
  "language_info": {
   "codemirror_mode": {
    "name": "ipython",
    "version": 3
   },
   "file_extension": ".py",
   "mimetype": "text/x-python",
   "name": "python",
   "nbconvert_exporter": "python",
   "pygments_lexer": "ipython3",
   "version": "3.9.13"
  }
 },
 "nbformat": 4,
 "nbformat_minor": 5
}
