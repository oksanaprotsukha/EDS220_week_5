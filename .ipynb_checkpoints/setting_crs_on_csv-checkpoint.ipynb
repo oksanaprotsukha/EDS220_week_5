{
 "cells": [
  {
   "cell_type": "markdown",
   "id": "9e9fc1bb-274f-4d61-ba10-2a66e9851559",
   "metadata": {},
   "source": [
    "## About our data\n",
    "\n",
    "Dataset 1: \n",
    "From the US Energy Information Administration (EIA). Info about current operable electric power plants in the US by energy source.\n",
    "\n",
    "Dataset 2:\n",
    "TIGER shapefiles from US Census Bureau depicting state boundaries."
   ]
  },
  {
   "cell_type": "code",
   "execution_count": null,
   "id": "6bc37a05-20a7-4d9f-983e-fc49c5591293",
   "metadata": {},
   "outputs": [],
   "source": [
    "# import libraries\n",
    "\n",
    "import geopandas as gpd\n",
    "import pandas as pd\n",
    "import matplotlib as plt\n",
    "\n",
    "# update pandas display option\n",
    "pd.set_option(\"display.max.columns\", None)"
   ]
  }
 ],
 "metadata": {
  "kernelspec": {
   "display_name": "Anaconda 3 (Base)",
   "language": "python",
   "name": "base"
  },
  "language_info": {
   "codemirror_mode": {
    "name": "ipython",
    "version": 3
   },
   "file_extension": ".py",
   "mimetype": "text/x-python",
   "name": "python",
   "nbconvert_exporter": "python",
   "pygments_lexer": "ipython3",
   "version": "3.9.13"
  }
 },
 "nbformat": 4,
 "nbformat_minor": 5
}
